{
 "cells": [
  {
   "cell_type": "code",
   "execution_count": null,
   "metadata": {
    "colab": {
     "base_uri": "https://localhost:8080/"
    },
    "id": "hyLymetf20Fh",
    "outputId": "57bef016-57b3-48d7-aa65-94c4bfcb7130"
   },
   "outputs": [],
   "source": [
    "!pip install wyrm"
   ]
  },
  {
   "cell_type": "code",
   "execution_count": null,
   "metadata": {
    "id": "IL-tBHF8ExWZ"
   },
   "outputs": [],
   "source": [
    "import pandas as pd\n",
    "import numpy as np\n",
    "import seaborn as sn\n",
    "import pandas as pd\n",
    "import matplotlib.pyplot as plt\n",
    "import numpy as np\n",
    "from scipy import signal\n",
    "from sklearn.cluster import KMeans\n",
    "from sklearn.model_selection import train_test_split"
   ]
  },
  {
   "cell_type": "code",
   "execution_count": null,
   "metadata": {
    "colab": {
     "base_uri": "https://localhost:8080/"
    },
    "id": "SC097L0_005C",
    "outputId": "2027facb-bb87-4002-e9a7-224c6cf6e195"
   },
   "outputs": [],
   "source": [
    "# Load the Preprocessed Data\n",
    "df = pd.read_csv('preprocessed_MI.csv')\n",
    "\n",
    "\n",
    "# Print Pandas Dataframe\n",
    "print(df)\n",
    "print(df.shape)"
   ]
  },
  {
   "cell_type": "code",
   "execution_count": null,
   "metadata": {
    "id": "kaAlaYcn2OVK"
   },
   "outputs": [],
   "source": [
    "df_eeg_data = df[['1','2','3','4','5','6','7', '8']]\n",
    "\n",
    "# Split the data into train and test set\n",
    "train, test = train_test_split(df_eeg_data, test_size=0.2, random_state=42, shuffle=False)\n",
    "\n",
    "# print(type(train))\n",
    "# print(test)"
   ]
  },
  {
   "cell_type": "code",
   "execution_count": null,
   "metadata": {
    "colab": {
     "base_uri": "https://localhost:8080/"
    },
    "id": "OhKqLH0al-um",
    "outputId": "2f0bafaa-1145-4332-f5cc-cc06e3916bd2"
   },
   "outputs": [],
   "source": [
    "# Epoch Data into 10 Second Windows\n",
    "# 60, 2500, 8\n",
    "\n",
    "# Convert Test and Training Data into Numpy Array\n",
    "train = train.to_numpy()\n",
    "test = test.to_numpy()\n",
    "\n",
    "# Length of Windows (s)\n",
    "window_length = 10\n",
    "\n",
    "# Epoching Training Data\n",
    "epoched_corrected = []\n",
    "\n",
    "for filtered in train.T:\n",
    "    array_epochs = []\n",
    "    i = 0\n",
    "    window_size_hz = int(window_length*250) # 10 Seconds\n",
    "\n",
    "    while(i  < len(train) ):\n",
    "        array_epochs.append(train[i:i + window_size_hz])\n",
    "        i = i + window_size_hz \n",
    "    \n",
    "    epoch = array_epochs\n",
    "    data = np.array(array_epochs) # epoched_train\n",
    "\n",
    "print(data.shape)\n",
    "\n",
    "\n",
    "# Epoching Test Data\n",
    "epoched_corrected = []\n",
    "\n",
    "for filtered in test.T:\n",
    "    array_epochs = []\n",
    "    i = 0\n",
    "    window_size_hz = int(window_length*250) # 10 Seconds\n",
    "\n",
    "    while(i  < len(test) ):\n",
    "        array_epochs.append(test[i:i + window_size_hz])\n",
    "        i = i + window_size_hz \n",
    "    \n",
    "    epoch = array_epochs\n",
    "    epoched_test = np.array(array_epochs) # epoched_test\n",
    "\n",
    "print(epoched_test.shape)\n",
    "\n"
   ]
  },
  {
   "cell_type": "code",
   "execution_count": null,
   "metadata": {
    "colab": {
     "base_uri": "https://localhost:8080/"
    },
    "id": "EGGYFhaAmBAS",
    "outputId": "37562971-0990-470d-d7b3-9f70b11e91df"
   },
   "outputs": [],
   "source": [
    "# Label Test\n",
    "df_test = pd.read_csv('/content/Label_Test.csv')\n",
    "\n",
    "\n",
    "# Print Pandas Dataframe\n",
    "df_test = ((df_test).to_numpy()).flatten()\n",
    "\n",
    "# Shape of the Testing Labels\n",
    "print(df_test.shape)\n",
    "\n",
    "# Label Train\n",
    "df_train = pd.read_csv('/content/Label_Train.csv')\n",
    "\n",
    "# Print Pandas Dataframe\n",
    "df_train = ((df_train).to_numpy()).flatten()\n",
    "\n",
    "# Shape of the Testing Labels\n",
    "print(df_train.shape)\n"
   ]
  },
  {
   "cell_type": "code",
   "execution_count": null,
   "metadata": {
    "colab": {
     "base_uri": "https://localhost:8080/"
    },
    "id": "rwHKBERlmDa8",
    "outputId": "14a096be-38e2-4246-bac4-80e9200371b5"
   },
   "outputs": [],
   "source": [
    "# Convert the train data into wyrm Data Format\n",
    "\n",
    "from wyrm import processing as proc\n",
    "\n",
    "\n",
    "from wyrm.types import Data\n",
    "\n",
    "# Wyrm Data Attributes: 1.axes 2.names 3.units\n",
    "# Initialize the First Attribute (Axes: describes the number of dimension of data)\n",
    "axes = [np.arange(i) for i in data.shape]\n",
    "\n",
    "# Assign 48 Labels to axes[0]\n",
    "axes[0] = df_train\n",
    "axes[2] = [str(i) for i in range(data.shape[2])]\n",
    "\n",
    "# Initialize the 2nd and 3rd attribute(- Name: Describe the name of each dimension of data - Units: The units of the dimensions)\n",
    "names = ['Class', 'Time', 'Channel']\n",
    "units = ['#', 'ms', '#']\n",
    "\n",
    "\n",
    "dat_train = Data(data=data, axes=axes, names=names, units=units)\n",
    "\n",
    "dat_train.fs = 250\n",
    "\n",
    "# Classes (2)\n",
    "dat_train.class_names = ['hands', 'feet']\n",
    "\n",
    "# Converting 0s and 1s for binary classification\n",
    "dat_train.axes[0][dat_train.axes[0] == 2] = 0\n",
    "\n",
    "\n",
    "\n",
    "print(dat_train)"
   ]
  },
  {
   "cell_type": "code",
   "execution_count": null,
   "metadata": {
    "colab": {
     "base_uri": "https://localhost:8080/"
    },
    "id": "M8vyAP2lmJiA",
    "outputId": "df054327-fd43-4e9c-a86d-796db869d3a2"
   },
   "outputs": [],
   "source": [
    "# Get the data var up and running\n",
    "data = epoched_test\n",
    "\n",
    "print(data.shape)"
   ]
  },
  {
   "cell_type": "code",
   "execution_count": null,
   "metadata": {
    "colab": {
     "base_uri": "https://localhost:8080/"
    },
    "id": "78jgrK-52_od",
    "outputId": "30c48b31-4203-4752-a8df-e989e90dbd6c"
   },
   "outputs": [],
   "source": [
    "# Convert the test data into wyrm data format\n",
    "axes = [np.arange(i) for i in data.shape]\n",
    "axes[2] = [str(i) for i in range(data.shape[2])]\n",
    "\n",
    "\n",
    "# Assign 12 Labels to axes[0]\n",
    "axes[0] = df_test\n",
    "\n",
    "names = ['Class', 'Time', 'Channel']\n",
    "units = ['#', 'ms', '#']\n",
    "\n",
    "dat_test = Data(data=data, axes = axes, names = names, units = units)\n",
    "\n",
    "dat_test.fs = 250\n",
    "\n",
    "# Classes (2)\n",
    "dat_test.class_names = ['hands' , 'feet']\n",
    "\n",
    "\n",
    "# Converting 0s and 1s for binary classification\n",
    "dat_test.axes[0][dat_test.axes[0] == 2] = 0\n",
    "\n",
    "\n",
    "\n",
    "print(dat_test)"
   ]
  },
  {
   "cell_type": "code",
   "execution_count": null,
   "metadata": {
    "colab": {
     "base_uri": "https://localhost:8080/",
     "height": 649
    },
    "id": "yQzUeKbAmWb4",
    "outputId": "1d8f014d-c587-46c1-9105-b168b38f007c"
   },
   "outputs": [],
   "source": [
    "import matplotlib.pyplot as plt\n",
    "from wyrm import plot as pt\n",
    "pt.plot_timeinterval(dat_train)\n",
    "plt.title(\"Time interval plot for train data before processing\")\n",
    "plt.savefig('/content/Train_before_Process.png', dpi=900, format= \"png\", bbox_inches=\"tight\")\n",
    "pt.plot_timeinterval(dat_test)\n",
    "plt.title(\"Time interval plot for test data before processing\")  \n",
    "plt.savefig('/content/Test_before_Process.png', dpi=900, format= \"png\", bbox_inches=\"tight\")"
   ]
  },
  {
   "cell_type": "code",
   "execution_count": null,
   "metadata": {
    "colab": {
     "base_uri": "https://localhost:8080/",
     "height": 579
    },
    "id": "mqOAkNxcGUQx",
    "outputId": "639327f4-a589-4d9a-9c85-3be957c6d9bc"
   },
   "outputs": [],
   "source": [
    "# Class Average for each channel\n",
    "pt.plot_channels(dat_train,2)\n",
    "plt.savefig('/content/train_Class_average.png', dpi=600, format= \"png\", bbox_inches=\"tight\")\n",
    "pt.plot_channels(dat_test,2)\n",
    "plt.savefig('/content/Test_class_average.png', dpi=600, format= \"png\", bbox_inches=\"tight\")"
   ]
  },
  {
   "cell_type": "code",
   "execution_count": null,
   "metadata": {
    "cellView": "code",
    "id": "Y7iAlTHJ7gUR"
   },
   "outputs": [],
   "source": [
    "import matplotlib.pyplot as plt\n",
    "from wyrm import plot as pt\n",
    "\n",
    "def prepoc(dat_train, dat_test):\n",
    "  fsm=dat_train.fs/2\n",
    "  # filtering the data with 0.9 Hz high and 15 Hz low filter to reduce noise\n",
    "  #Applying butterworth filters accompanied low pass and high pass filter\n",
    "  c,a=proc.signal.butter(8,[15/fsm],btype='low')\n",
    "  dat_train=proc.lfilter(dat_train,c,a)\n",
    "  c,a=proc.signal.butter(8,0.9/fsm,btype='high')\n",
    "  dat_train=proc.lfilter(dat_train,c,a)\n",
    "  c,a=proc.signal.butter(8,[15/fsm],btype='low')\n",
    "  dat_test=proc.lfilter(dat_test,c,a)\n",
    "  c,a=proc.signal.butter(8,0.9/fsm,btype='high')\n",
    "  dat_test=proc.lfilter(dat_test,c,a)\n",
    "  \n",
    "  \n",
    "  # dat_train = proc.subsample(dat_train, 15.625,1)\n",
    "  # dat_test = proc.subsample(dat_test, 15.625,1)\n",
    "\n",
    "  pt.plot_timeinterval(dat_train)\n",
    "  plt.title(\"Time interval plot for train data after filtering and subsampling\")\n",
    "  plt.savefig('/content/Train_After_Process.png', dpi=900, format= \"png\", bbox_inches=\"tight\")\n",
    "\n",
    "  pt.plot_timeinterval(dat_test)\n",
    "  plt.title(\"Time interval plot for test data after filtering and subsampling\")\n",
    "  plt.savefig('/content/Test_After_Process.png', dpi=900, format= \"png\", bbox_inches=\"tight\")\n",
    "  \n",
    "  #applying common spatial pattern\n",
    "  filt, pattern, _ = proc.calculate_csp(dat_train)\n",
    "  dat_train = proc.apply_csp(dat_train, filt)\n",
    "  dat_test = proc.apply_csp(dat_test, filt)\n",
    "  dat_train = proc.variance(dat_train,1)\n",
    "  dat_train = proc.logarithm(dat_train)\n",
    "  \n",
    "  dat_test = proc.variance(dat_test,1)\n",
    "  dat_test = proc.logarithm(dat_test)\n",
    "  dat_train = proc.rectify_channels(dat_train)\n",
    "  dat_test = proc.rectify_channels(dat_test)\n",
    "  \n",
    "  dat_train = proc.square(dat_train)\n",
    "  dat_test = proc.square(dat_test)\n",
    "  \n",
    "  pt.plot_timeinterval(dat_train)\n",
    "  plt.title(\"Time interval plot for train data after CSP filter\")\n",
    "  pt.plot_timeinterval(dat_test)\n",
    "  plt.title(\"Time interval plot for test data after CSP filter\")\n",
    "\n",
    "  return dat_train,dat_test\n"
   ]
  },
  {
   "cell_type": "code",
   "execution_count": null,
   "metadata": {
    "colab": {
     "base_uri": "https://localhost:8080/",
     "height": 1000
    },
    "id": "AKT0cIUg2b9Y",
    "outputId": "afeb720c-f580-4695-aa45-4c851fc6f0da"
   },
   "outputs": [],
   "source": [
    "fvtr, fvte = prepoc(dat_train, dat_test)"
   ]
  },
  {
   "cell_type": "code",
   "execution_count": null,
   "metadata": {
    "colab": {
     "base_uri": "https://localhost:8080/",
     "height": 281
    },
    "id": "fbP1bWWvG2yy",
    "outputId": "546097e2-c6cf-4721-bff1-804e49062406"
   },
   "outputs": [],
   "source": [
    "plt.plot(fvtr.data) #CSP for label 0 and 1 in train data\n",
    "#plt.show\n",
    "plt.title(\"Time interval plot for train data after CSP filter\")\n",
    "plt.savefig('/contentTrain_After_CSP.png', dpi=600, format= \"png\", bbox_inches=\"tight\")"
   ]
  },
  {
   "cell_type": "code",
   "execution_count": null,
   "metadata": {
    "colab": {
     "base_uri": "https://localhost:8080/",
     "height": 281
    },
    "id": "Qh3A-D8_D2UY",
    "outputId": "ebe2d5d6-cf94-4785-a885-874965e9739d"
   },
   "outputs": [],
   "source": [
    "plt.plot(fvte.data) #CSP for label 0 and 1 in test data\n",
    "plt.title(\"Time interval plot for test data after CSP filter\")\n",
    "plt.savefig('/content/Test_After_CSP.png', dpi=600, format= \"png\", bbox_inches=\"tight\")"
   ]
  },
  {
   "cell_type": "markdown",
   "metadata": {
    "id": "Mxe2XZZORgjF"
   },
   "source": [
    "## **LDA Classification**"
   ]
  },
  {
   "cell_type": "code",
   "execution_count": null,
   "metadata": {
    "id": "9fIiyo7dGI-q"
   },
   "outputs": [],
   "source": [
    "from wyrm import processing as proc\n",
    "\n",
    "cfy = proc.lda_train(fvtr)\n",
    "result=proc.lda_apply(fvte,cfy)\n",
    "result1=(np.sign(result)+1)/2"
   ]
  },
  {
   "cell_type": "code",
   "execution_count": null,
   "metadata": {
    "colab": {
     "base_uri": "https://localhost:8080/"
    },
    "id": "464iscGvIHY1",
    "outputId": "ed60c7c0-1887-4643-a0dc-69bb40af845d"
   },
   "outputs": [],
   "source": [
    "sum=0.0\n",
    "for i in range(len(result1)):\n",
    "\tif result1[i]==df_test[i]:\n",
    "\t\tsum=sum+1\n",
    "lda_acc=sum/(len(result))\n",
    "print  (lda_acc)"
   ]
  },
  {
   "cell_type": "code",
   "execution_count": null,
   "metadata": {
    "id": "YNABvKR3HAF6"
   },
   "outputs": [],
   "source": [
    "# Creating a function to report confusion metrics\n",
    "def confusion_metrics (conf_matrix):\n",
    "# save confusion matrix and slice into four pieces\n",
    "    TP = conf_matrix[1][1]\n",
    "    TN = conf_matrix[0][0]\n",
    "    FP = conf_matrix[0][1]\n",
    "    FN = conf_matrix[1][0]\n",
    "    print('True Positives:', TP)\n",
    "    print('True Negatives:', TN)\n",
    "    print('False Positives:', FP)\n",
    "    print('False Negatives:', FN)\n",
    "    # calculate accuracy\n",
    "    conf_accuracy = (float (TP+TN) / float(TP + TN + FP + FN))\n",
    "    \n",
    "    # calculate mis-classification\n",
    "    conf_misclassification = 1- conf_accuracy\n",
    "    \n",
    "    # calculate the sensitivity\n",
    "    conf_sensitivity = (TP / float(TP + FN))\n",
    "    # calculate the specificity\n",
    "    conf_specificity = (TN / float(TN + FP))\n",
    "    \n",
    "    # calculate precision\n",
    "    conf_precision = (TP / float(TP + FP))\n",
    "    # calculate f_1 score\n",
    "    conf_f1 = 2 * ((conf_precision * conf_sensitivity) / (conf_precision + conf_sensitivity))\n",
    "    print('-'*50)\n",
    "    print(f'Accuracy: {round(conf_accuracy,2)}') \n",
    "    print(f'Mis-Classification: {round(conf_misclassification,2)}') \n",
    "    print(f'Sensitivity: {round(conf_sensitivity,2)}') \n",
    "    print(f'Specificity: {round(conf_specificity,2)}') \n",
    "    print(f'Precision: {round(conf_precision,2)}')\n",
    "    print(f'f_1 Score: {round(conf_f1,2)}')"
   ]
  },
  {
   "cell_type": "code",
   "execution_count": null,
   "metadata": {
    "id": "RAlvWw8UHBo5"
   },
   "outputs": [],
   "source": [
    "from sklearn import metrics\n",
    "# Creating the confusion matrix\n",
    "cm = metrics.confusion_matrix(df_test, result1)"
   ]
  },
  {
   "cell_type": "code",
   "execution_count": null,
   "metadata": {
    "colab": {
     "base_uri": "https://localhost:8080/"
    },
    "id": "zItn9qwvHFH7",
    "outputId": "e127a6aa-53dc-49e2-d784-6809ac748986"
   },
   "outputs": [],
   "source": [
    "confusion_metrics(cm)"
   ]
  },
  {
   "cell_type": "code",
   "execution_count": null,
   "metadata": {
    "colab": {
     "base_uri": "https://localhost:8080/"
    },
    "id": "5F0O4vCwbz_r",
    "outputId": "02660d30-7ce4-40ea-b9e9-e5a275cc0f8a"
   },
   "outputs": [],
   "source": [
    "from sklearn.metrics import matthews_corrcoef\n",
    "lda_mcc= matthews_corrcoef(df_test,result1)\n",
    "lda_mcc"
   ]
  },
  {
   "cell_type": "markdown",
   "metadata": {
    "id": "HjQNh8dJR0Ov"
   },
   "source": [
    "## **Train Labels**"
   ]
  },
  {
   "cell_type": "code",
   "execution_count": null,
   "metadata": {
    "id": "Tl_8QT_bBV_H"
   },
   "outputs": [],
   "source": [
    "y_tr=df_train\n",
    "y_tr[y_tr == 2] = 0"
   ]
  },
  {
   "cell_type": "markdown",
   "metadata": {
    "id": "C9xM0ZX0QlTw"
   },
   "source": [
    "## **Random Forest Classifier**"
   ]
  },
  {
   "cell_type": "code",
   "execution_count": null,
   "metadata": {
    "colab": {
     "base_uri": "https://localhost:8080/"
    },
    "id": "oxBoCGU19b-9",
    "outputId": "ca2924fd-be3c-454d-92ad-b67b53c0b667"
   },
   "outputs": [],
   "source": [
    "from sklearn.model_selection import RandomizedSearchCV,GridSearchCV\n",
    "from sklearn.ensemble import RandomForestClassifier\n",
    "\n",
    "param={\n",
    "'max_depth':[5,10,20,50,100],\n",
    "\n",
    "'n_estimators':[2,10,25,50,100]\n",
    "}\n",
    "\n",
    "first_xgb = RandomForestClassifier()\n",
    "clf =GridSearchCV(first_xgb,param, cv=5,verbose=2)\n",
    "clf.fit(fvtr.data,y_tr)\n",
    "print(clf.best_params_)\n"
   ]
  },
  {
   "cell_type": "code",
   "execution_count": null,
   "metadata": {
    "colab": {
     "base_uri": "https://localhost:8080/"
    },
    "id": "7ij4SFOf99fU",
    "outputId": "8414f4ac-6b30-40ba-d44e-c9642330390c"
   },
   "outputs": [],
   "source": [
    "from sklearn.ensemble import RandomForestClassifier\n",
    "from sklearn.metrics import accuracy_score,roc_curve,roc_auc_score, precision_score, recall_score\n",
    "rf = RandomForestClassifier(max_depth = 5, n_estimators=50,n_jobs=1)\n",
    "rf.fit(fvtr.data, y_tr)\n",
    "rf_predict= rf.predict(fvte.data)\n",
    "#rf_probs=rf.predict_proba(xte12)[:,1]\n",
    "rf_acc=accuracy_score(df_test,rf_predict)\n",
    "rf_mcc= matthews_corrcoef(df_test,rf_predict)\n",
    "rf_mcc"
   ]
  },
  {
   "cell_type": "code",
   "execution_count": null,
   "metadata": {
    "id": "5KOsoMtyCAxv"
   },
   "outputs": [],
   "source": [
    "from sklearn import metrics\n",
    "# Creating the confusion matrix\n",
    "cm = metrics.confusion_matrix(y_test, rf_predict)\n"
   ]
  },
  {
   "cell_type": "code",
   "execution_count": null,
   "metadata": {
    "colab": {
     "base_uri": "https://localhost:8080/"
    },
    "id": "bAgai31XCRVs",
    "outputId": "6e5f302e-53c8-4a08-b1e3-abb58df70009"
   },
   "outputs": [],
   "source": [
    "confusion_metrics(cm)"
   ]
  },
  {
   "cell_type": "markdown",
   "metadata": {
    "id": "6Gepu90kQuEV"
   },
   "source": [
    "## **XGBoost Classifier**"
   ]
  },
  {
   "cell_type": "code",
   "execution_count": null,
   "metadata": {
    "colab": {
     "base_uri": "https://localhost:8080/"
    },
    "id": "9xgLyrmZDAaa",
    "outputId": "1fcd4a00-9a61-4972-f9ec-dd503b5c7dfd"
   },
   "outputs": [],
   "source": [
    "from sklearn.model_selection import RandomizedSearchCV,GridSearchCV\n",
    "from sklearn.ensemble import RandomForestClassifier\n",
    "import xgboost as xgb\n",
    "\n",
    "param={\n",
    "'min_child_weight':[5,10,15],\n",
    "'max_depth':[5,10,20,50,100],\n",
    "'learning_rate':[0.001,0.05,0.5,1],\n",
    "'subsample':[0.8,0.5,0.2],\n",
    "'n_estimators':[2,10,25,50,100]\n",
    "}\n",
    "\n",
    "first_xgb = xgb.XGBClassifier()\n",
    "clf =GridSearchCV(first_xgb,param, cv=5,verbose=2)\n",
    "clf.fit(fvtr.data,y_tr)\n",
    "print(clf.best_params_)\n"
   ]
  },
  {
   "cell_type": "code",
   "execution_count": null,
   "metadata": {
    "colab": {
     "base_uri": "https://localhost:8080/"
    },
    "id": "i4S1DddDErPo",
    "outputId": "a4c59bf8-5771-4d4b-8d55-c02995d7ea55"
   },
   "outputs": [],
   "source": [
    "from sklearn.ensemble import RandomForestClassifier\n",
    "from sklearn.metrics import accuracy_score,roc_curve,roc_auc_score, precision_score, recall_score\n",
    "xg = xgb.XGBClassifier(max_depth = 5, n_estimators=25,n_jobs=1,learning_rate=0.05,min_child_weight=5,subsample=0.8)\n",
    "xg.fit(fvtr.data, y_tr)\n",
    "xg_predict= xg.predict(fvte.data)\n",
    "xg_acc=accuracy_score(df_test,xg_predict)\n",
    "xg_mcc= matthews_corrcoef(df_test,xg_predict)\n",
    "xg_mcc"
   ]
  },
  {
   "cell_type": "code",
   "execution_count": null,
   "metadata": {
    "id": "JahEjxNcFWnJ"
   },
   "outputs": [],
   "source": [
    "from sklearn import metrics\n",
    "# Creating the confusion matrix\n",
    "cm = metrics.confusion_matrix(df_test, xg_predict)\n"
   ]
  },
  {
   "cell_type": "code",
   "execution_count": null,
   "metadata": {
    "colab": {
     "base_uri": "https://localhost:8080/",
     "height": 111
    },
    "id": "lzDw1OkGFeIB",
    "outputId": "8c7fc23d-c20d-4ecb-e7f4-7d48a2a93fa4"
   },
   "outputs": [],
   "source": [
    "cmdf = pd.DataFrame(cm, \n",
    "            columns = ['Predicted Negative', 'Predicted Positive'],\n",
    "            index = ['Actual Negative', 'Actual Positive'])\n",
    "cmdf"
   ]
  },
  {
   "cell_type": "code",
   "execution_count": null,
   "metadata": {
    "colab": {
     "base_uri": "https://localhost:8080/"
    },
    "id": "PGh13dzOFiAh",
    "outputId": "2c46411f-9e44-4424-f790-0981897137e0"
   },
   "outputs": [],
   "source": [
    "confusion_metrics(cm)"
   ]
  },
  {
   "cell_type": "markdown",
   "metadata": {
    "id": "BqvlhANHQ1CM"
   },
   "source": [
    "## **Support Vector Machine**"
   ]
  },
  {
   "cell_type": "code",
   "execution_count": null,
   "metadata": {
    "colab": {
     "base_uri": "https://localhost:8080/"
    },
    "id": "fdrmwSv2FtVc",
    "outputId": "be61a0e0-a56e-4220-d986-37f616ff9e76"
   },
   "outputs": [],
   "source": [
    "from sklearn.svm import SVC\n",
    "\n",
    "param={\n",
    "'C':[0.0001,0.001,0.01,0.1,1,10,100,1000]\n",
    "}\n",
    "\n",
    "svm = SVC()\n",
    "clf =GridSearchCV(svm,param, cv=5,verbose=2)\n",
    "clf.fit(fvtr.data,y_tr)\n",
    "print(clf.best_params_)\n"
   ]
  },
  {
   "cell_type": "code",
   "execution_count": null,
   "metadata": {
    "colab": {
     "base_uri": "https://localhost:8080/"
    },
    "id": "mRkyGvxFGiob",
    "outputId": "a512786b-c401-4704-c221-fa6f0c140d62"
   },
   "outputs": [],
   "source": [
    "svm = SVC(C=0.0001, probability=True)\n",
    "svm.fit(fvtr.data, y_tr)\n",
    "svm_predict= svm.predict(fvte.data)\n",
    "svm_acc=accuracy_score(df_test,svm_predict)\n",
    "svm_mcc= matthews_corrcoef(df_test,svm_predict)\n",
    "svm_mcc"
   ]
  },
  {
   "cell_type": "code",
   "execution_count": null,
   "metadata": {
    "colab": {
     "base_uri": "https://localhost:8080/"
    },
    "id": "8tKh2wrAHLKs",
    "outputId": "0eadbe21-ca1e-4b86-d8d6-fa2746b5b797"
   },
   "outputs": [],
   "source": [
    "confusion_metrics(cm)"
   ]
  },
  {
   "cell_type": "markdown",
   "metadata": {
    "id": "7_R7ARj0Q51w"
   },
   "source": [
    "## **Logistic Regression**"
   ]
  },
  {
   "cell_type": "code",
   "execution_count": null,
   "metadata": {
    "colab": {
     "base_uri": "https://localhost:8080/"
    },
    "id": "PRVk4urqHXAb",
    "outputId": "70a39060-764c-45c6-96fd-16ea77b2c163"
   },
   "outputs": [],
   "source": [
    "from sklearn.linear_model import LogisticRegression\n",
    "\n",
    "param={\n",
    "'C':[0.0001,0.001,0.01,0.1,1,10,100,1000]\n",
    "}\n",
    "\n",
    "lr = LogisticRegression()\n",
    "clf =GridSearchCV(lr,param, cv=5,verbose=2)\n",
    "clf.fit(fvtr.data,y_tr)\n",
    "print(clf.best_params_)\n"
   ]
  },
  {
   "cell_type": "code",
   "execution_count": null,
   "metadata": {
    "colab": {
     "base_uri": "https://localhost:8080/"
    },
    "id": "EwGVIKA5IQko",
    "outputId": "9026ffd6-7be5-438a-ca87-524b649259d5"
   },
   "outputs": [],
   "source": [
    "lr = LogisticRegression(C=0.00001)\n",
    "lr.fit(fvtr.data, y_tr)\n",
    "lr_predict= lr.predict(fvte.data)\n",
    "lr_acc=accuracy_score(df_test,lr_predict)\n",
    "lr_mcc= matthews_corrcoef(df_test,lr_predict)\n",
    "lr_mcc"
   ]
  },
  {
   "cell_type": "code",
   "execution_count": null,
   "metadata": {
    "colab": {
     "base_uri": "https://localhost:8080/"
    },
    "id": "Cbq2ok5-IkJY",
    "outputId": "bb512d76-fd0c-4ac8-cb00-baeb0dc47615"
   },
   "outputs": [],
   "source": [
    "confusion_metrics(cm)"
   ]
  },
  {
   "cell_type": "markdown",
   "metadata": {
    "id": "N0fKqIQgRAax"
   },
   "source": [
    "## **K Nearest Neighbors Classifier**"
   ]
  },
  {
   "cell_type": "code",
   "execution_count": null,
   "metadata": {
    "colab": {
     "base_uri": "https://localhost:8080/"
    },
    "id": "1E840YNQIpQg",
    "outputId": "8f0513f8-8fdd-47cc-e343-87d2757ed7c4"
   },
   "outputs": [],
   "source": [
    "from sklearn.neighbors import KNeighborsClassifier\n",
    "param={\n",
    "'n_neighbors':[2,6,10]\n",
    "}\n",
    "\n",
    "kn = KNeighborsClassifier()\n",
    "clf =GridSearchCV(kn,param, cv=5,verbose=2)\n",
    "clf.fit(fvtr.data,y_tr)\n",
    "print(clf.best_params_)\n"
   ]
  },
  {
   "cell_type": "code",
   "execution_count": null,
   "metadata": {
    "colab": {
     "base_uri": "https://localhost:8080/"
    },
    "id": "YDdy4wkbJ_Wt",
    "outputId": "0b19f7a9-de5d-43c2-c275-3c2fe551f0c9"
   },
   "outputs": [],
   "source": [
    "kn = KNeighborsClassifier(n_neighbors=10)\n",
    "kn.fit(fvtr.data, y_tr)\n",
    "kn_predict= kn.predict(fvte.data)\n",
    "k_acc=accuracy_score(df_test,kn_predict)\n",
    "kn_mcc= matthews_corrcoef(df_test,kn_predict)\n",
    "kn_mcc"
   ]
  },
  {
   "cell_type": "code",
   "execution_count": null,
   "metadata": {
    "colab": {
     "base_uri": "https://localhost:8080/"
    },
    "id": "F6T7kiRlKWvu",
    "outputId": "19484396-da4c-48f7-fa9d-877066fa0b64"
   },
   "outputs": [],
   "source": [
    "from sklearn import metrics\n",
    "# Creating the confusion matrix\n",
    "cm = metrics.confusion_matrix(df_test, kn_predict)\n",
    "\n",
    "confusion_metrics(cm)"
   ]
  },
  {
   "cell_type": "markdown",
   "metadata": {
    "id": "nyNxKoF-RJj9"
   },
   "source": [
    "## **Naive Bayes Classifier**"
   ]
  },
  {
   "cell_type": "code",
   "execution_count": null,
   "metadata": {
    "colab": {
     "base_uri": "https://localhost:8080/"
    },
    "id": "aN6Zx4_bKbB8",
    "outputId": "4c7ef737-2a8b-46ac-890e-e9abd5355098"
   },
   "outputs": [],
   "source": [
    "from sklearn.naive_bayes import GaussianNB\n",
    "nb = GaussianNB()\n",
    "nb.fit(fvtr.data, y_tr)\n",
    "nb_predict= nb.predict(fvte.data)\n",
    "nb_acc=accuracy_score(df_test,nb_predict)\n",
    "nb_mcc= matthews_corrcoef(df_test,nb_predict)\n",
    "nb_mcc"
   ]
  },
  {
   "cell_type": "code",
   "execution_count": null,
   "metadata": {
    "colab": {
     "base_uri": "https://localhost:8080/"
    },
    "id": "VTh2M5LUMb8c",
    "outputId": "761e970b-7722-4f2b-d6dd-3986e5bb7ee8"
   },
   "outputs": [],
   "source": [
    "from sklearn import metrics\n",
    "# Creating the confusion matrix\n",
    "cm = metrics.confusion_matrix(df_test, nb_predict)\n",
    "\n",
    "confusion_metrics(cm)"
   ]
  },
  {
   "cell_type": "markdown",
   "metadata": {
    "id": "C4o7kDK-RQRX"
   },
   "source": [
    "## **Decision Tree Classifier**"
   ]
  },
  {
   "cell_type": "code",
   "execution_count": null,
   "metadata": {
    "colab": {
     "base_uri": "https://localhost:8080/"
    },
    "id": "3G1F6SkBNTuX",
    "outputId": "df739b74-2c8d-4dc6-9eaf-8b9ec0de1ce5"
   },
   "outputs": [],
   "source": [
    "from sklearn.tree import DecisionTreeClassifier\n",
    "param={\n",
    "'max_depth':[2,6,10,40,70,100],\n",
    "'min_samples_split':[5,10,100,500]\n",
    "}\n",
    "\n",
    "dt = DecisionTreeClassifier()\n",
    "clf =GridSearchCV(dt,param, cv=5,verbose=2)\n",
    "clf.fit(fvtr.data,y_tr)\n",
    "print(clf.best_params_)\n",
    "\n"
   ]
  },
  {
   "cell_type": "code",
   "execution_count": null,
   "metadata": {
    "colab": {
     "base_uri": "https://localhost:8080/"
    },
    "id": "arsKQY_0OB-s",
    "outputId": "0c074acc-2cc3-4a16-a98e-73cde3f33aa9"
   },
   "outputs": [],
   "source": [
    "from sklearn.naive_bayes import GaussianNB\n",
    "dt = DecisionTreeClassifier(max_depth=2,min_samples_split=5)\n",
    "dt.fit(fvtr.data, y_tr)\n",
    "dt_predict= dt.predict(fvte.data)\n",
    "dt_acc=accuracy_score(df_test,dt_predict)\n",
    "dt_mcc= matthews_corrcoef(df_test,dt_predict)\n",
    "dt_mcc"
   ]
  },
  {
   "cell_type": "code",
   "execution_count": null,
   "metadata": {
    "colab": {
     "base_uri": "https://localhost:8080/"
    },
    "id": "VMkG6WvhOg19",
    "outputId": "eb56d071-45b0-4d52-a4cc-34f38ff0f3b3"
   },
   "outputs": [],
   "source": [
    "from sklearn import metrics\n",
    "# Creating the confusion matrix\n",
    "cm = metrics.confusion_matrix(df_test, dt_predict)\n",
    "\n",
    "confusion_metrics(cm)"
   ]
  },
  {
   "cell_type": "markdown",
   "metadata": {
    "id": "PIxvUqyFRX3n"
   },
   "source": [
    "## Model Comparison"
   ]
  },
  {
   "cell_type": "code",
   "execution_count": null,
   "metadata": {
    "colab": {
     "base_uri": "https://localhost:8080/",
     "height": 279
    },
    "id": "kV7A0amhMgDZ",
    "outputId": "3a3795ad-aa29-434d-c67b-75eff706a66b"
   },
   "outputs": [],
   "source": [
    "X_bar = ['Random Forest','KNN','SVM','XGboost','Logistic Regression','Naive Bayes','Decision Tree','LDA']\n",
    "Y_bar= [rf_acc*100,k_acc*100,svm_acc*100,xg_acc*100,lr_acc*100,nb_acc*100,dt_acc*100,lda_acc*100]\n",
    "import matplotlib.pyplot as plt\n",
    "plt.barh(X_bar, Y_bar, align='center', color=('#C4EE73','#EEA773', '#73EED9', '#1CB4E3', '#A081DC', '#BE20E7', '#F54B48','#DC93DD'))\n",
    "plt.xlabel(\"Performance Accuracy in Percentage\")\n",
    "#plt.show()\n",
    "plt.savefig('/content/Comparison.png', dpi=600, format= \"png\", bbox_inches=\"tight\")\n",
    "                      "
   ]
  }
 ],
 "metadata": {
  "colab": {
   "collapsed_sections": [
    "C4o7kDK-RQRX",
    "t2LOifIedebI"
   ],
   "name": "MotorImagery.ipynb",
   "provenance": []
  },
  "kernelspec": {
   "display_name": "Python 3 (ipykernel)",
   "language": "python",
   "name": "python3"
  },
  "language_info": {
   "codemirror_mode": {
    "name": "ipython",
    "version": 3
   },
   "file_extension": ".py",
   "mimetype": "text/x-python",
   "name": "python",
   "nbconvert_exporter": "python",
   "pygments_lexer": "ipython3",
   "version": "3.9.7"
  },
  "vscode": {
   "interpreter": {
    "hash": "59ea5cb6d2e51e68a6da273d1247abea796608a7b45012c3c126dd27aab4c3ef"
   }
  }
 },
 "nbformat": 4,
 "nbformat_minor": 2
}
